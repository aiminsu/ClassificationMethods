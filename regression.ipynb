{
 "cells": [
  {
   "cell_type": "markdown",
   "metadata": {},
   "source": [
    "### Data preparation\n",
    "* Boston houce price data can be directly loaded in sklearn."
   ]
  },
  {
   "cell_type": "code",
   "execution_count": 68,
   "metadata": {},
   "outputs": [
    {
     "name": "stdout",
     "output_type": "stream",
     "text": [
      "(354, 13) (152, 13) (354,) (152,)\n"
     ]
    }
   ],
   "source": [
    "import warnings\n",
    "warnings.filterwarnings('ignore')\n",
    "from sklearn.datasets import load_boston\n",
    "from sklearn.cross_validation import train_test_split\n",
    "boston = load_boston()\n",
    "boston_data = boston.data\n",
    "boston_target = boston.target\n",
    "X_train, X_test, y_train, y_test = train_test_split(boston_data, \n",
    "                    boston_target, test_size=0.3, random_state=0)\n",
    "print(X_train.shape, X_test.shape, y_train.shape, y_test.shape)"
   ]
  },
  {
   "cell_type": "markdown",
   "metadata": {},
   "source": [
    "### Linear Regression"
   ]
  },
  {
   "cell_type": "code",
   "execution_count": 69,
   "metadata": {},
   "outputs": [
    {
     "name": "stdout",
     "output_type": "stream",
     "text": [
      "predicted:  24.93551831330965 , target:  22.6\n",
      "predicted:  23.756685968621724 , target:  50.0\n",
      "predicted:  29.336400798840433 , target:  23.0\n",
      "predicted:  11.998984436528385 , target:  8.3\n",
      "predicted:  21.375839986296278 , target:  21.2\n",
      "predicted:  19.197185106122156 , target:  19.9\n",
      "predicted:  20.57022125628845 , target:  20.6\n",
      "predicted:  21.21383020436058 , target:  18.7\n",
      "predicted:  19.051876589696032 , target:  16.1\n",
      "predicted:  20.310284418271678 , target:  18.6\n",
      "predicted:  5.476850574951882 , target:  8.8\n",
      "predicted:  16.88415507198176 , target:  17.2\n",
      "predicted:  17.131776112187058 , target:  14.9\n",
      "predicted:  5.411321869422267 , target:  10.5\n",
      "predicted:  40.216028704991324 , target:  50.0\n",
      "predicted:  32.30923608331231 , target:  29.0\n",
      "predicted:  22.464451114905934 , target:  23.0\n",
      "predicted:  36.50566714414837 , target:  33.3\n",
      "predicted:  31.03913253472614 , target:  29.4\n",
      "predicted:  23.175526741050852 , target:  21.0\n",
      "predicted:  24.75105204688748 , target:  23.8\n",
      "predicted:  24.511224363605624 , target:  19.1\n",
      "predicted:  20.656757555616483 , target:  20.4\n",
      "predicted:  30.456792792655598 , target:  29.1\n",
      "predicted:  22.333444006092893 , target:  19.3\n",
      "predicted:  10.186479969438025 , target:  23.1\n",
      "predicted:  17.443948165787383 , target:  19.6\n",
      "predicted:  18.2466384467676 , target:  19.4\n",
      "predicted:  35.62978155778741 , target:  38.7\n",
      "predicted:  20.81890426824338 , target:  18.7\n",
      "predicted:  18.269691919762572 , target:  14.6\n",
      "predicted:  17.715580712490897 , target:  20.0\n",
      "predicted:  19.340360937542236 , target:  20.5\n",
      "predicted:  23.626425250169945 , target:  20.1\n",
      "predicted:  28.982834232477757 , target:  23.6\n",
      "predicted:  19.438351793705785 , target:  16.8\n",
      "predicted:  11.140226343883455 , target:  5.6\n",
      "predicted:  24.822720507382222 , target:  50.0\n",
      "predicted:  18.005663878442718 , target:  14.5\n",
      "predicted:  15.571612733295087 , target:  13.3\n",
      "predicted:  26.220785802195678 , target:  23.9\n",
      "predicted:  20.81349155366614 , target:  20.0\n",
      "predicted:  22.17395320723019 , target:  19.8\n",
      "predicted:  15.482767131569375 , target:  13.8\n",
      "predicted:  22.62642909822987 , target:  16.5\n",
      "predicted:  24.893976482930572 , target:  21.6\n",
      "predicted:  19.75674027196736 , target:  20.3\n",
      "predicted:  23.03741163030793 , target:  17.0\n",
      "predicted:  9.840320629797603 , target:  11.8\n",
      "predicted:  24.36186514710966 , target:  27.5\n",
      "predicted:  21.43835983691433 , target:  15.6\n",
      "predicted:  17.611226994364586 , target:  23.1\n",
      "predicted:  24.39248313452726 , target:  24.3\n",
      "predicted:  29.936559839071787 , target:  42.8\n",
      "predicted:  13.557661679510524 , target:  15.6\n",
      "predicted:  21.534496521623716 , target:  21.7\n",
      "predicted:  20.538704388454214 , target:  17.1\n",
      "predicted:  15.034223984475311 , target:  17.2\n",
      "predicted:  14.344042609157484 , target:  15.0\n",
      "predicted:  22.122899359401917 , target:  21.7\n",
      "predicted:  17.077522647280155 , target:  18.6\n",
      "predicted:  21.54237223262954 , target:  21.0\n",
      "predicted:  32.966413175073185 , target:  33.1\n",
      "predicted:  31.371583392114843 , target:  31.5\n",
      "predicted:  17.79556173586522 , target:  20.1\n",
      "predicted:  32.75501672135109 , target:  29.8\n",
      "predicted:  18.727161412960374 , target:  15.2\n",
      "predicted:  19.20885246746364 , target:  15.0\n",
      "predicted:  19.387501902682878 , target:  27.5\n",
      "predicted:  23.083612886209263 , target:  22.6\n",
      "predicted:  22.881266756369918 , target:  20.0\n",
      "predicted:  24.06959335019708 , target:  21.4\n",
      "predicted:  30.53517035611798 , target:  23.5\n",
      "predicted:  28.711330940619035 , target:  31.2\n",
      "predicted:  25.909613892528633 , target:  23.7\n",
      "predicted:  5.181941183338466 , target:  7.4\n",
      "predicted:  36.85972097935131 , target:  48.3\n",
      "predicted:  23.771993150656385 , target:  24.4\n",
      "predicted:  27.264175967159368 , target:  22.6\n",
      "predicted:  19.258207872779412 , target:  18.3\n",
      "predicted:  28.419750560783815 , target:  23.3\n",
      "predicted:  19.30026340990527 , target:  17.1\n",
      "predicted:  18.954922320655164 , target:  27.9\n",
      "predicted:  37.99169045948334 , target:  44.8\n",
      "predicted:  39.426367681084926 , target:  50.0\n",
      "predicted:  23.725812250229165 , target:  23.0\n",
      "predicted:  24.841683989393076 , target:  21.4\n",
      "predicted:  16.474507715469244 , target:  10.2\n",
      "predicted:  25.999538291756693 , target:  23.3\n",
      "predicted:  16.725187705661966 , target:  23.2\n",
      "predicted:  15.482789251999456 , target:  18.9\n",
      "predicted:  13.47288622943088 , target:  13.4\n",
      "predicted:  24.138745667059617 , target:  21.9\n",
      "predicted:  30.772555651181396 , target:  24.8\n",
      "predicted:  22.196221826313447 , target:  11.9\n",
      "predicted:  19.886406037879098 , target:  24.3\n",
      "predicted:  0.4257139727868804 , target:  13.8\n",
      "predicted:  24.872921204789513 , target:  24.7\n",
      "predicted:  15.992284212730482 , target:  14.1\n",
      "predicted:  17.425917152330292 , target:  18.7\n",
      "predicted:  25.497717251531338 , target:  28.1\n",
      "predicted:  22.35059735030631 , target:  19.8\n",
      "predicted:  32.66512993703885 , target:  26.7\n",
      "predicted:  22.047182100580322 , target:  21.7\n",
      "predicted:  27.29341636514602 , target:  22.0\n",
      "predicted:  23.20866226875793 , target:  22.9\n",
      "predicted:  6.840652401878664 , target:  10.4\n",
      "predicted:  14.861253402635196 , target:  21.9\n",
      "predicted:  22.323824777712694 , target:  20.6\n",
      "predicted:  29.178764403377592 , target:  26.4\n",
      "predicted:  33.237548940657206 , target:  41.3\n",
      "predicted:  13.22316788749286 , target:  17.2\n",
      "predicted:  19.67098559048546 , target:  27.1\n",
      "predicted:  20.74300090102669 , target:  20.4\n",
      "predicted:  12.011555954889083 , target:  16.5\n",
      "predicted:  23.500899330638966 , target:  24.4\n",
      "predicted:  5.490472704781197 , target:  8.4\n",
      "predicted:  19.88055588885437 , target:  23.0\n",
      "predicted:  9.26991544118961 , target:  9.7\n",
      "predicted:  44.81549316126054 , target:  50.0\n",
      "predicted:  30.564051382542132 , target:  30.5\n",
      "predicted:  12.435099036455874 , target:  12.3\n",
      "predicted:  17.33705871517207 , target:  19.4\n",
      "predicted:  21.481375848682255 , target:  21.2\n",
      "predicted:  23.534739590803575 , target:  20.3\n",
      "predicted:  20.50348719505899 , target:  18.8\n",
      "predicted:  35.08429713699556 , target:  33.4\n",
      "predicted:  13.224410638256437 , target:  18.5\n",
      "predicted:  20.70543543472742 , target:  19.6\n",
      "predicted:  35.35464590135562 , target:  33.2\n",
      "predicted:  19.44293529880327 , target:  13.1\n",
      "predicted:  13.744859885008253 , target:  7.5\n",
      "predicted:  14.16119371938641 , target:  13.6\n",
      "predicted:  23.035700781983028 , target:  17.4\n",
      "predicted:  15.009517730581539 , target:  8.4\n",
      "predicted:  30.959173028575343 , target:  35.4\n",
      "predicted:  25.23174466126322 , target:  24.0\n",
      "predicted:  15.433343526039074 , target:  13.4\n",
      "predicted:  24.061044931934358 , target:  26.2\n",
      "predicted:  9.871137681527077 , target:  7.2\n",
      "predicted:  15.023319506173621 , target:  13.1\n",
      "predicted:  21.056330045063902 , target:  24.5\n",
      "predicted:  32.872421522140115 , target:  37.2\n",
      "predicted:  27.81448828637371 , target:  25.0\n",
      "predicted:  25.91807900799047 , target:  24.1\n",
      "predicted:  15.277908232685558 , target:  16.6\n",
      "predicted:  30.969662182540752 , target:  32.9\n",
      "predicted:  27.810604699239722 , target:  36.2\n",
      "predicted:  14.451102419044098 , target:  11.0\n",
      "predicted:  7.571232143029469 , target:  7.2\n",
      "predicted:  28.344849099116924 , target:  22.8\n",
      "predicted:  25.050397554025622 , target:  28.7\n",
      "R-squared: 0.6735280865347321\n"
     ]
    }
   ],
   "source": [
    "from sklearn.linear_model import LinearRegression\n",
    "lr = LinearRegression()\n",
    "lr.fit(X_train, y_train)\n",
    "y_pred = lr.predict(X_test)\n",
    "for i, pred in enumerate(y_pred):\n",
    "    print('predicted: ', pred, ', target: ', y_test[i])\n",
    "print('R-squared: {}'.format(lr.score(X_test, y_test)))"
   ]
  },
  {
   "cell_type": "markdown",
   "metadata": {},
   "source": [
    "### Least Square\n",
    "* Linear regression problems equals to solving $Y=X\\beta$ equations.\n",
    "* Solution: $\\beta = (X^TX)^{-1}X^TY$\n",
    "* This can be easily done via *lstsq* in numpy"
   ]
  },
  {
   "cell_type": "code",
   "execution_count": 70,
   "metadata": {},
   "outputs": [
    {
     "name": "stdout",
     "output_type": "stream",
     "text": [
      "R-squared: 0.53\n"
     ]
    }
   ],
   "source": [
    "from numpy.linalg import lstsq\n",
    "import numpy as np\n",
    "from sklearn.metrics import r2_score\n",
    "beta = lstsq(X_train, y_train)[0]\n",
    "y_pred = np.dot(X_test, beta)\n",
    "print('R-squared: {0:.2f}'.format(r2_score(y_pred, y_test)))"
   ]
  },
  {
   "cell_type": "markdown",
   "metadata": {},
   "source": [
    "### Fitting models via gradient descent\n",
    "* Loss: $SS_{res} = \\sum_{i=1}^{n}(y_i - \\hat{y}_i)$"
   ]
  },
  {
   "cell_type": "code",
   "execution_count": 71,
   "metadata": {},
   "outputs": [],
   "source": [
    "# Transform data to standard scale\n",
    "import numpy as np\n",
    "from sklearn.preprocessing import StandardScaler\n",
    "x_scaler = StandardScaler()\n",
    "y_scaler = StandardScaler()\n",
    "X_train = x_scaler.fit_transform(X_train)\n",
    "X_test = x_scaler.transform(X_test)\n",
    "y_train = y_scaler.fit_transform(y_train.reshape(-1, 1))\n",
    "y_test = y_scaler.transform(y_test.reshape(-1, 1))"
   ]
  },
  {
   "cell_type": "code",
   "execution_count": 72,
   "metadata": {},
   "outputs": [
    {
     "name": "stdout",
     "output_type": "stream",
     "text": [
      "R-squared: 0.65\n"
     ]
    }
   ],
   "source": [
    "from sklearn.linear_model import SGDRegressor\n",
    "sgd = SGDRegressor(loss='squared_loss')\n",
    "sgd.fit(X_train, y_train)\n",
    "print('R-squared: {0:.2f}'.format(sgd.score(X_test, y_test)))"
   ]
  },
  {
   "cell_type": "code",
   "execution_count": 73,
   "metadata": {},
   "outputs": [
    {
     "name": "stdout",
     "output_type": "stream",
     "text": [
      "[0.76541772 0.55938665 0.76552984 0.69438219 0.79948466]\n"
     ]
    }
   ],
   "source": [
    "# Cross Validation\n",
    "from sklearn.cross_validation import cross_val_score\n",
    "scores = cross_val_score(sgd, X_train, y_train, cv=5)\n",
    "print(scores)"
   ]
  },
  {
   "cell_type": "markdown",
   "metadata": {},
   "source": [
    "### Polynominal Regression"
   ]
  },
  {
   "cell_type": "code",
   "execution_count": 74,
   "metadata": {},
   "outputs": [],
   "source": [
    "# Prepare Data\n",
    "X_train = [[6], [8], [10], [14], [18]]\n",
    "y_train = [[7], [9], [13], [17.5], [18]]\n",
    "X_test = [[6],  [8],   [11], [16]]\n",
    "y_test = [[8], [12], [15], [18]]"
   ]
  },
  {
   "cell_type": "code",
   "execution_count": 75,
   "metadata": {},
   "outputs": [
    {
     "name": "stdout",
     "output_type": "stream",
     "text": [
      "R-Squared: 0.81\n"
     ]
    }
   ],
   "source": [
    "# First try to fit the model via linear regression\n",
    "lr = LinearRegression()\n",
    "lr.fit(X_train, y_train)\n",
    "print('R-Squared: {0:.2f}'.format(lr.score(X_test, y_test)))"
   ]
  },
  {
   "cell_type": "code",
   "execution_count": 76,
   "metadata": {},
   "outputs": [
    {
     "data": {
      "image/png": "[encoded data removed]",
      "text/plain": [
       "<matplotlib.figure.Figure at 0x1a154bae80>"
      ]
     },
     "metadata": {},
     "output_type": "display_data"
    }
   ],
   "source": [
    "# Visulization\n",
    "import matplotlib.pyplot as plt\n",
    "x = np.vstack((X_train, X_test))\n",
    "y = np.vstack((y_train, y_test))\n",
    "xx = np.linspace(5, 20, 50)\n",
    "yy = lr.predict(xx.reshape(-1, 1))\n",
    "plt.figure()\n",
    "plt.plot(x, y, '*')\n",
    "plt.plot(xx, yy, 'b-')\n",
    "plt.show()"
   ]
  },
  {
   "cell_type": "code",
   "execution_count": 77,
   "metadata": {},
   "outputs": [
    {
     "name": "stdout",
     "output_type": "stream",
     "text": [
      "R-Squared: 0.87\n"
     ]
    }
   ],
   "source": [
    "from sklearn.preprocessing import PolynomialFeatures\n",
    "from sklearn.metrics import r2_score\n",
    "pf = PolynomialFeatures(degree=2)\n",
    "X_train_pf = pf.fit_transform(X_train)\n",
    "X_test_pf = pf.transform(X_test)\n",
    "pf_regressor = LinearRegression()\n",
    "pf_regressor.fit(X_train_pf, y_train)\n",
    "print('R-Squared: {0:.2f}'.format(pf_regressor.score(X_test_pf, y_test)))"
   ]
  },
  {
   "cell_type": "code",
   "execution_count": 78,
   "metadata": {},
   "outputs": [
    {
     "data": {
      "image/png": "[encoded data removed]",
      "text/plain": [
       "<matplotlib.figure.Figure at 0x1a152f2588>"
      ]
     },
     "metadata": {},
     "output_type": "display_data"
    }
   ],
   "source": [
    "xx_pf = pf.transform(xx.reshape(-1,1))\n",
    "plt.figure()\n",
    "plt.plot(x, y, '*')\n",
    "plt.plot(xx, yy, 'b-')\n",
    "plt.plot(xx, pf_regressor.predict(xx_pf), 'r-')\n",
    "plt.show()"
   ]
  }
 ],
 "metadata": {
  "kernelspec": {
   "display_name": "Python 3",
   "language": "python",
   "name": "python3"
  },
  "language_info": {
   "codemirror_mode": {
    "name": "ipython",
    "version": 3
   },
   "file_extension": ".py",
   "mimetype": "text/x-python",
   "name": "python",
   "nbconvert_exporter": "python",
   "pygments_lexer": "ipython3",
   "version": "3.6.4"
  }
 },
 "nbformat": 4,
 "nbformat_minor": 2
}
